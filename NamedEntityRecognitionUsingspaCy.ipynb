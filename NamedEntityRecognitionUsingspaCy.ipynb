{
 "cells": [
  {
   "cell_type": "code",
   "execution_count": 1,
   "metadata": {},
   "outputs": [],
   "source": [
    "import spacy"
   ]
  },
  {
   "cell_type": "code",
   "execution_count": 47,
   "metadata": {},
   "outputs": [],
   "source": [
    "nlp = spacy.load('en_core_web_sm')"
   ]
  },
  {
   "cell_type": "code",
   "execution_count": 48,
   "metadata": {},
   "outputs": [],
   "source": [
    "doc = \"\"\"Alice follows a large white rabbit down a \"Rabbit-hole\". She finds a tiny door. When she finds a bottle labeled \"Drink me\", she does, and shrinks, but not enough to pass through the door. She then eats something labeled \"Eat me\" and grows larger. She finds a fan when enables her to shrink enough to get into the \"Garden\" and try to get a \"Dog\" to play with her. She enters the \"White Rabbit's tiny House,\" but suddenly resumes her normal size. In order to get out, she has to use the \"magic fan.\"\n",
    "She enters a kitchen, in which there is a cook and a woman holding a baby. She persuades the woman to give her the child and takes the infant outside after the cook starts throwing things around. The baby then turns into a pig and squirms out of her grip. \"The Duchess's Cheshire Cat\" appears and disappears a couple of times to Alice and directs her to the Mad Hatter's \"Mad Tea-Party.\" After a while, she leaves.\n",
    "The Queen invites Alice to join the \"ROYAL PROCESSION\": a parade of marching playing cards and others headed by the White Rabbit. When Alice \"unintentionally offends the Queen\", the latter summons the \"Executioner\". Alice \"boxes the ears\", then flees when all the playing cards come for her. Then she wakes up and realizes it was all a dream.\"\"\""
   ]
  },
  {
   "cell_type": "code",
   "execution_count": 49,
   "metadata": {},
   "outputs": [],
   "source": [
    "spacy_doc = nlp(doc)"
   ]
  },
  {
   "cell_type": "code",
   "execution_count": 50,
   "metadata": {},
   "outputs": [
    {
     "data": {
      "text/plain": [
       "Alice follows a large white rabbit down a \"Rabbit-hole\". She finds a tiny door. When she finds a bottle labeled \"Drink me\", she does, and shrinks, but not enough to pass through the door. She then eats something labeled \"Eat me\" and grows larger. She finds a fan when enables her to shrink enough to get into the \"Garden\" and try to get a \"Dog\" to play with her. She enters the \"White Rabbit's tiny House,\" but suddenly resumes her normal size. In order to get out, she has to use the \"magic fan.\"\n",
       "She enters a kitchen, in which there is a cook and a woman holding a baby. She persuades the woman to give her the child and takes the infant outside after the cook starts throwing things around. The baby then turns into a pig and squirms out of her grip. \"The Duchess's Cheshire Cat\" appears and disappears a couple of times to Alice and directs her to the Mad Hatter's \"Mad Tea-Party.\" After a while, she leaves.\n",
       "The Queen invites Alice to join the \"ROYAL PROCESSION\": a parade of marching playing cards and others headed by the White Rabbit. When Alice \"unintentionally offends the Queen\", the latter summons the \"Executioner\". Alice \"boxes the ears\", then flees when all the playing cards come for her. Then she wakes up and realizes it was all a dream."
      ]
     },
     "execution_count": 50,
     "metadata": {},
     "output_type": "execute_result"
    }
   ],
   "source": [
    "spacy_doc"
   ]
  },
  {
   "cell_type": "code",
   "execution_count": 9,
   "metadata": {},
   "outputs": [],
   "source": [
    "# word tokenization\n",
    "tokens = list(spacy_doc)"
   ]
  },
  {
   "cell_type": "code",
   "execution_count": 10,
   "metadata": {},
   "outputs": [
    {
     "name": "stdout",
     "output_type": "stream",
     "text": [
      "[Alice, follows, a, large, white, rabbit, down, a, \", Rabbit, -, hole, \", ., She, finds, a, tiny, door, ., When, she, finds, a, bottle, labeled, \", Drink, me, \", ,, she, does, ,, and, shrinks, ,, but, not, enough, to, pass, through, the, door, ., She, then, eats, something, labeled, \", Eat, me, \", and, grows, larger, ., She, finds, a, fan, when, enables, her, to, shrink, enough, to, get, into, the, \", Garden, \", and, try, to, get, a, \", Dog, \", to, play, with, her, ., She, enters, the, \", White, Rabbit, 's, tiny, House, ,, \", but, suddenly, resumes, her, normal, size, ., In, order, to, get, out, ,, she, has, to, use, the, \", magic, fan, ., \", \n",
      ", She, enters, a, kitchen, ,, in, which, there, is, a, cook, and, a, woman, holding, a, baby, ., She, persuades, the, woman, to, give, her, the, child, and, takes, the, infant, outside, after, the, cook, starts, throwing, things, around, ., The, baby, then, turns, into, a, pig, and, squirms, out, of, her, grip, ., \", The, Duchess, 's, Cheshire, Cat, \", appears, and, disappears, a, couple, of, times, to, Alice, and, directs, her, to, the, Mad, Hatter, 's, \", Mad, Tea, -, Party, ., \", After, a, while, ,, she, leaves, ., \n",
      ", The, Queen, invites, Alice, to, join, the, \", ROYAL, PROCESSION, \", :, a, parade, of, marching, playing, cards, and, others, headed, by, the, White, Rabbit, ., When, Alice, \", unintentionally, offends, the, Queen, \", ,, the, latter, summons, the, \", Executioner, \", ., Alice, \", boxes, the, ears, \", ,, then, flees, when, all, the, playing, cards, come, for, her, ., Then, she, wakes, up, and, realizes, it, was, all, a, dream, .]\n"
     ]
    }
   ],
   "source": [
    "print(tokens)"
   ]
  },
  {
   "cell_type": "code",
   "execution_count": 23,
   "metadata": {},
   "outputs": [
    {
     "name": "stdout",
     "output_type": "stream",
     "text": [
      "['_', '__bytes__', '__class__', '__delattr__', '__dir__', '__doc__', '__eq__', '__format__', '__ge__', '__getattribute__', '__gt__', '__hash__', '__init__', '__init_subclass__', '__le__', '__len__', '__lt__', '__ne__', '__new__', '__pyx_vtable__', '__reduce__', '__reduce_ex__', '__repr__', '__setattr__', '__sizeof__', '__str__', '__subclasshook__', '__unicode__', 'ancestors', 'check_flag', 'children', 'cluster', 'conjuncts', 'dep', 'dep_', 'doc', 'ent_id', 'ent_id_', 'ent_iob', 'ent_iob_', 'ent_kb_id', 'ent_kb_id_', 'ent_type', 'ent_type_', 'get_extension', 'has_extension', 'has_vector', 'head', 'i', 'idx', 'is_alpha', 'is_ancestor', 'is_ascii', 'is_bracket', 'is_currency', 'is_digit', 'is_left_punct', 'is_lower', 'is_oov', 'is_punct', 'is_quote', 'is_right_punct', 'is_sent_start', 'is_space', 'is_stop', 'is_title', 'is_upper', 'lang', 'lang_', 'left_edge', 'lefts', 'lemma', 'lemma_', 'lex_id', 'like_email', 'like_num', 'like_url', 'lower', 'lower_', 'morph', 'n_lefts', 'n_rights', 'nbor', 'norm', 'norm_', 'orth', 'orth_', 'pos', 'pos_', 'prefix', 'prefix_', 'prob', 'rank', 'remove_extension', 'right_edge', 'rights', 'sent', 'sent_start', 'sentiment', 'set_extension', 'shape', 'shape_', 'similarity', 'string', 'subtree', 'suffix', 'suffix_', 'tag', 'tag_', 'tensor', 'text', 'text_with_ws', 'vector', 'vector_norm', 'vocab', 'whitespace_']\n"
     ]
    }
   ],
   "source": [
    "# text cleaning\n",
    "# print the token properties\n",
    "print(dir(tokens[0]))"
   ]
  },
  {
   "cell_type": "code",
   "execution_count": 28,
   "metadata": {},
   "outputs": [],
   "source": [
    "# removal of punctuation\n",
    "data_without_punctuation = []\n",
    "for token in tokens:  \n",
    "    if token.is_punct == False:\n",
    "        data_without_punctuation.append(token)"
   ]
  },
  {
   "cell_type": "code",
   "execution_count": 30,
   "metadata": {},
   "outputs": [
    {
     "name": "stdout",
     "output_type": "stream",
     "text": [
      "[Alice, follows, a, large, white, rabbit, down, a, Rabbit, hole, She, finds, a, tiny, door, When, she, finds, a, bottle, labeled, Drink, me, she, does, and, shrinks, but, not, enough, to, pass, through, the, door, She, then, eats, something, labeled, Eat, me, and, grows, larger, She, finds, a, fan, when, enables, her, to, shrink, enough, to, get, into, the, Garden, and, try, to, get, a, Dog, to, play, with, her, She, enters, the, White, Rabbit, 's, tiny, House, but, suddenly, resumes, her, normal, size, In, order, to, get, out, she, has, to, use, the, magic, fan, \n",
      ", She, enters, a, kitchen, in, which, there, is, a, cook, and, a, woman, holding, a, baby, She, persuades, the, woman, to, give, her, the, child, and, takes, the, infant, outside, after, the, cook, starts, throwing, things, around, The, baby, then, turns, into, a, pig, and, squirms, out, of, her, grip, The, Duchess, 's, Cheshire, Cat, appears, and, disappears, a, couple, of, times, to, Alice, and, directs, her, to, the, Mad, Hatter, 's, Mad, Tea, Party, After, a, while, she, leaves, \n",
      ", The, Queen, invites, Alice, to, join, the, ROYAL, PROCESSION, a, parade, of, marching, playing, cards, and, others, headed, by, the, White, Rabbit, When, Alice, unintentionally, offends, the, Queen, the, latter, summons, the, Executioner, Alice, boxes, the, ears, then, flees, when, all, the, playing, cards, come, for, her, Then, she, wakes, up, and, realizes, it, was, all, a, dream]\n"
     ]
    }
   ],
   "source": [
    "print(data_without_punctuation)"
   ]
  },
  {
   "cell_type": "code",
   "execution_count": 33,
   "metadata": {},
   "outputs": [],
   "source": [
    "# removal of stopwords\n",
    "data_without_stopwords = []\n",
    "for token in data_without_punctuation:  \n",
    "    if token.is_stop == False:\n",
    "        data_without_stopwords.append(token)\n",
    "        "
   ]
  },
  {
   "cell_type": "code",
   "execution_count": 34,
   "metadata": {},
   "outputs": [
    {
     "name": "stdout",
     "output_type": "stream",
     "text": [
      "[Alice, follows, large, white, rabbit, Rabbit, hole, finds, tiny, door, finds, bottle, labeled, Drink, shrinks, pass, door, eats, labeled, Eat, grows, larger, finds, fan, enables, shrink, Garden, try, Dog, play, enters, White, Rabbit, tiny, House, suddenly, resumes, normal, size, order, use, magic, fan, \n",
      ", enters, kitchen, cook, woman, holding, baby, persuades, woman, child, takes, infant, outside, cook, starts, throwing, things, baby, turns, pig, squirms, grip, Duchess, Cheshire, Cat, appears, disappears, couple, times, Alice, directs, Mad, Hatter, Mad, Tea, Party, leaves, \n",
      ", Queen, invites, Alice, join, ROYAL, PROCESSION, parade, marching, playing, cards, headed, White, Rabbit, Alice, unintentionally, offends, Queen, summons, Executioner, Alice, boxes, ears, flees, playing, cards, come, wakes, realizes, dream]\n"
     ]
    }
   ],
   "source": [
    "print(data_without_stopwords)"
   ]
  },
  {
   "cell_type": "code",
   "execution_count": 37,
   "metadata": {},
   "outputs": [],
   "source": [
    "# token lemmatization\n",
    "lemmatized_data = [l.lemma_ for l in  data_without_stopwords]"
   ]
  },
  {
   "cell_type": "code",
   "execution_count": 39,
   "metadata": {},
   "outputs": [
    {
     "name": "stdout",
     "output_type": "stream",
     "text": [
      "['Alice', 'follow', 'large', 'white', 'rabbit', 'Rabbit', 'hole', 'find', 'tiny', 'door', 'find', 'bottle', 'label', 'drink', 'shrink', 'pass', 'door', 'eat', 'label', 'eat', 'grow', 'large', 'find', 'fan', 'enable', 'shrink', 'Garden', 'try', 'Dog', 'play', 'enter', 'White', 'Rabbit', 'tiny', 'House', 'suddenly', 'resume', 'normal', 'size', 'order', 'use', 'magic', 'fan', '\\n', 'enter', 'kitchen', 'cook', 'woman', 'hold', 'baby', 'persuade', 'woman', 'child', 'take', 'infant', 'outside', 'cook', 'start', 'throw', 'thing', 'baby', 'turn', 'pig', 'squirm', 'grip', 'Duchess', 'Cheshire', 'Cat', 'appear', 'disappear', 'couple', 'time', 'Alice', 'direct', 'Mad', 'Hatter', 'Mad', 'Tea', 'Party', 'leave', '\\n', 'Queen', 'invite', 'Alice', 'join', 'ROYAL', 'PROCESSION', 'parade', 'march', 'playing', 'card', 'head', 'White', 'Rabbit', 'Alice', 'unintentionally', 'offend', 'Queen', 'summon', 'Executioner', 'Alice', 'box', 'ear', 'flee', 'playing', 'card', 'come', 'wake', 'realize', 'dream']\n"
     ]
    }
   ],
   "source": [
    "print(lemmatized_data)"
   ]
  },
  {
   "cell_type": "code",
   "execution_count": 41,
   "metadata": {},
   "outputs": [],
   "source": [
    "# join lemmatized words \n",
    "combined_lemmatized_words = \" \".join(lemmatized_data)"
   ]
  },
  {
   "cell_type": "code",
   "execution_count": 42,
   "metadata": {},
   "outputs": [
    {
     "name": "stdout",
     "output_type": "stream",
     "text": [
      "Alice follow large white rabbit Rabbit hole find tiny door find bottle label drink shrink pass door eat label eat grow large find fan enable shrink Garden try Dog play enter White Rabbit tiny House suddenly resume normal size order use magic fan \n",
      " enter kitchen cook woman hold baby persuade woman child take infant outside cook start throw thing baby turn pig squirm grip Duchess Cheshire Cat appear disappear couple time Alice direct Mad Hatter Mad Tea Party leave \n",
      " Queen invite Alice join ROYAL PROCESSION parade march playing card head White Rabbit Alice unintentionally offend Queen summon Executioner Alice box ear flee playing card come wake realize dream\n"
     ]
    }
   ],
   "source": [
    "print(combined_lemmatized_words)"
   ]
  },
  {
   "cell_type": "code",
   "execution_count": 44,
   "metadata": {},
   "outputs": [
    {
     "name": "stdout",
     "output_type": "stream",
     "text": [
      "Alice PROPN\n",
      "follows VERB\n",
      "a DET\n",
      "large ADJ\n",
      "white ADJ\n",
      "rabbit NOUN\n",
      "down ADP\n",
      "a DET\n",
      "\" PUNCT\n",
      "Rabbit PROPN\n",
      "- PUNCT\n",
      "hole NOUN\n",
      "\" PUNCT\n",
      ". PUNCT\n",
      "She PRON\n",
      "finds VERB\n",
      "a DET\n",
      "tiny ADJ\n",
      "door NOUN\n",
      ". PUNCT\n",
      "When ADV\n",
      "she PRON\n",
      "finds VERB\n",
      "a DET\n",
      "bottle NOUN\n",
      "labeled VERB\n",
      "\" PUNCT\n",
      "Drink VERB\n",
      "me PRON\n",
      "\" PUNCT\n",
      ", PUNCT\n",
      "she PRON\n",
      "does AUX\n",
      ", PUNCT\n",
      "and CCONJ\n",
      "shrinks NOUN\n",
      ", PUNCT\n",
      "but CCONJ\n",
      "not PART\n",
      "enough ADJ\n",
      "to PART\n",
      "pass VERB\n",
      "through ADP\n",
      "the DET\n",
      "door NOUN\n",
      ". PUNCT\n",
      "She PRON\n",
      "then ADV\n",
      "eats VERB\n",
      "something PRON\n",
      "labeled VERB\n",
      "\" PUNCT\n",
      "Eat VERB\n",
      "me PRON\n",
      "\" PUNCT\n",
      "and CCONJ\n",
      "grows VERB\n",
      "larger ADJ\n",
      ". PUNCT\n",
      "She PRON\n",
      "finds VERB\n",
      "a DET\n",
      "fan NOUN\n",
      "when ADV\n",
      "enables VERB\n",
      "her PRON\n",
      "to PART\n",
      "shrink VERB\n",
      "enough ADJ\n",
      "to PART\n",
      "get AUX\n",
      "into ADP\n",
      "the DET\n",
      "\" PUNCT\n",
      "Garden PROPN\n",
      "\" PUNCT\n",
      "and CCONJ\n",
      "try VERB\n",
      "to PART\n",
      "get AUX\n",
      "a DET\n",
      "\" PUNCT\n",
      "Dog PROPN\n",
      "\" PUNCT\n",
      "to PART\n",
      "play VERB\n",
      "with ADP\n",
      "her PRON\n",
      ". PUNCT\n",
      "She PRON\n",
      "enters VERB\n",
      "the DET\n",
      "\" PUNCT\n",
      "White PROPN\n",
      "Rabbit PROPN\n",
      "'s PART\n",
      "tiny ADJ\n",
      "House PROPN\n",
      ", PUNCT\n",
      "\" PUNCT\n",
      "but CCONJ\n",
      "suddenly ADV\n",
      "resumes VERB\n",
      "her DET\n",
      "normal ADJ\n",
      "size NOUN\n",
      ". PUNCT\n",
      "In ADP\n",
      "order NOUN\n",
      "to PART\n",
      "get AUX\n",
      "out ADP\n",
      ", PUNCT\n",
      "she PRON\n",
      "has AUX\n",
      "to PART\n",
      "use VERB\n",
      "the DET\n",
      "\" PUNCT\n",
      "magic ADJ\n",
      "fan NOUN\n",
      ". PUNCT\n",
      "\" PUNCT\n",
      "\n",
      " SPACE\n",
      "She PRON\n",
      "enters VERB\n",
      "a DET\n",
      "kitchen NOUN\n",
      ", PUNCT\n",
      "in ADP\n",
      "which DET\n",
      "there PRON\n",
      "is AUX\n",
      "a DET\n",
      "cook NOUN\n",
      "and CCONJ\n",
      "a DET\n",
      "woman NOUN\n",
      "holding VERB\n",
      "a DET\n",
      "baby NOUN\n",
      ". PUNCT\n",
      "She PRON\n",
      "persuades VERB\n",
      "the DET\n",
      "woman NOUN\n",
      "to PART\n",
      "give VERB\n",
      "her PRON\n",
      "the DET\n",
      "child NOUN\n",
      "and CCONJ\n",
      "takes VERB\n",
      "the DET\n",
      "infant NOUN\n",
      "outside ADV\n",
      "after ADP\n",
      "the DET\n",
      "cook NOUN\n",
      "starts VERB\n",
      "throwing VERB\n",
      "things NOUN\n",
      "around ADP\n",
      ". PUNCT\n",
      "The DET\n",
      "baby NOUN\n",
      "then ADV\n",
      "turns VERB\n",
      "into ADP\n",
      "a DET\n",
      "pig NOUN\n",
      "and CCONJ\n",
      "squirms NOUN\n",
      "out SCONJ\n",
      "of ADP\n",
      "her DET\n",
      "grip NOUN\n",
      ". PUNCT\n",
      "\" PUNCT\n",
      "The DET\n",
      "Duchess PROPN\n",
      "'s PART\n",
      "Cheshire PROPN\n",
      "Cat PROPN\n",
      "\" PUNCT\n",
      "appears VERB\n",
      "and CCONJ\n",
      "disappears VERB\n",
      "a DET\n",
      "couple NOUN\n",
      "of ADP\n",
      "times NOUN\n",
      "to ADP\n",
      "Alice PROPN\n",
      "and CCONJ\n",
      "directs VERB\n",
      "her PRON\n",
      "to ADP\n",
      "the DET\n",
      "Mad PROPN\n",
      "Hatter PROPN\n",
      "'s PART\n",
      "\" PUNCT\n",
      "Mad PROPN\n",
      "Tea PROPN\n",
      "- PUNCT\n",
      "Party PROPN\n",
      ". PUNCT\n",
      "\" PUNCT\n",
      "After ADP\n",
      "a DET\n",
      "while NOUN\n",
      ", PUNCT\n",
      "she PRON\n",
      "leaves VERB\n",
      ". PUNCT\n",
      "\n",
      " SPACE\n",
      "The DET\n",
      "Queen PROPN\n",
      "invites VERB\n",
      "Alice PROPN\n",
      "to PART\n",
      "join VERB\n",
      "the DET\n",
      "\" PUNCT\n",
      "ROYAL PROPN\n",
      "PROCESSION PROPN\n",
      "\" PUNCT\n",
      ": PUNCT\n",
      "a DET\n",
      "parade NOUN\n",
      "of ADP\n",
      "marching VERB\n",
      "playing NOUN\n",
      "cards NOUN\n",
      "and CCONJ\n",
      "others NOUN\n",
      "headed VERB\n",
      "by ADP\n",
      "the DET\n",
      "White PROPN\n",
      "Rabbit PROPN\n",
      ". PUNCT\n",
      "When ADV\n",
      "Alice PROPN\n",
      "\" PUNCT\n",
      "unintentionally ADV\n",
      "offends VERB\n",
      "the DET\n",
      "Queen PROPN\n",
      "\" PUNCT\n",
      ", PUNCT\n",
      "the DET\n",
      "latter ADJ\n",
      "summons NOUN\n",
      "the DET\n",
      "\" PUNCT\n",
      "Executioner PROPN\n",
      "\" PUNCT\n",
      ". PUNCT\n",
      "Alice PROPN\n",
      "\" PUNCT\n",
      "boxes VERB\n",
      "the DET\n",
      "ears NOUN\n",
      "\" PUNCT\n",
      ", PUNCT\n",
      "then ADV\n",
      "flees VERB\n",
      "when ADV\n",
      "all DET\n",
      "the DET\n",
      "playing NOUN\n",
      "cards NOUN\n",
      "come VERB\n",
      "for ADP\n",
      "her PRON\n",
      ". PUNCT\n",
      "Then ADV\n",
      "she PRON\n",
      "wakes VERB\n",
      "up ADP\n",
      "and CCONJ\n",
      "realizes VERB\n",
      "it PRON\n",
      "was AUX\n",
      "all DET\n",
      "a DET\n",
      "dream NOUN\n",
      ". PUNCT\n"
     ]
    }
   ],
   "source": [
    "# parts of speech tagging\n",
    "for t in tokens:\n",
    "    print(t , t.pos_)"
   ]
  },
  {
   "cell_type": "code",
   "execution_count": 45,
   "metadata": {},
   "outputs": [
    {
     "name": "stdout",
     "output_type": "stream",
     "text": [
      "Enity:  House Label ORG\n",
      "Enity:  The Duchess's Cheshire Cat Label WORK_OF_ART\n",
      "Enity:  Alice Label PERSON\n",
      "Enity:  the Mad Hatter's Label ORG\n",
      "Enity:  \"Mad Tea-Party Label WORK_OF_ART\n",
      "Enity:  The Queen invites Alice Label WORK_OF_ART\n",
      "Enity:  the White Rabbit Label ORG\n",
      "Enity:  Alice Label PERSON\n"
     ]
    }
   ],
   "source": [
    "# extracting entities\n",
    "for ent in spacy_doc.ents:\n",
    "    print('Enity: ', ent.text , 'Label',ent.label_)"
   ]
  },
  {
   "cell_type": "code",
   "execution_count": 51,
   "metadata": {},
   "outputs": [
    {
     "name": "stdout",
     "output_type": "stream",
     "text": [
      "Enity:  House Label ORG\n",
      "Enity:  The Duchess's Cheshire Cat Label WORK_OF_ART\n",
      "Enity:  Alice Label PERSON\n",
      "Enity:  the Mad Hatter's Label ORG\n",
      "Enity:  \"Mad Tea-Party Label WORK_OF_ART\n",
      "Enity:  The Queen invites Alice Label WORK_OF_ART\n",
      "Enity:  the White Rabbit Label ORG\n",
      "Enity:  Alice Label PERSON\n"
     ]
    }
   ],
   "source": [
    "# extracting entities\n",
    "for ent in spacy_doc.ents:\n",
    "    if ent.text.strip():        \n",
    "        print('Enity: ', ent.text , 'Label', ent.label_)"
   ]
  },
  {
   "cell_type": "code",
   "execution_count": 53,
   "metadata": {},
   "outputs": [
    {
     "data": {
      "text/html": [
       "<div class=\"entities\" style=\"line-height: 2.5; direction: ltr\">Alice follows a large white rabbit down a &quot;Rabbit-hole&quot;. She finds a tiny door. When she finds a bottle labeled &quot;Drink me&quot;, she does, and shrinks, but not enough to pass through the door. She then eats something labeled &quot;Eat me&quot; and grows larger. She finds a fan when enables her to shrink enough to get into the &quot;Garden&quot; and try to get a &quot;Dog&quot; to play with her. She enters the &quot;White Rabbit's tiny \n",
       "<mark class=\"entity\" style=\"background: #7aecec; padding: 0.45em 0.6em; margin: 0 0.25em; line-height: 1; border-radius: 0.35em;\">\n",
       "    House\n",
       "    <span style=\"font-size: 0.8em; font-weight: bold; line-height: 1; border-radius: 0.35em; text-transform: uppercase; vertical-align: middle; margin-left: 0.5rem\">ORG</span>\n",
       "</mark>\n",
       ",&quot; but suddenly resumes her normal size. In order to get out, she has to use the &quot;magic fan.&quot;</br>She enters a kitchen, in which there is a cook and a woman holding a baby. She persuades the woman to give her the child and takes the infant outside after the cook starts throwing things around. The baby then turns into a pig and squirms out of her grip. &quot;\n",
       "<mark class=\"entity\" style=\"background: #f0d0ff; padding: 0.45em 0.6em; margin: 0 0.25em; line-height: 1; border-radius: 0.35em;\">\n",
       "    The Duchess's Cheshire Cat\n",
       "    <span style=\"font-size: 0.8em; font-weight: bold; line-height: 1; border-radius: 0.35em; text-transform: uppercase; vertical-align: middle; margin-left: 0.5rem\">WORK_OF_ART</span>\n",
       "</mark>\n",
       "&quot; appears and disappears a couple of times to \n",
       "<mark class=\"entity\" style=\"background: #aa9cfc; padding: 0.45em 0.6em; margin: 0 0.25em; line-height: 1; border-radius: 0.35em;\">\n",
       "    Alice\n",
       "    <span style=\"font-size: 0.8em; font-weight: bold; line-height: 1; border-radius: 0.35em; text-transform: uppercase; vertical-align: middle; margin-left: 0.5rem\">PERSON</span>\n",
       "</mark>\n",
       " and directs her to \n",
       "<mark class=\"entity\" style=\"background: #7aecec; padding: 0.45em 0.6em; margin: 0 0.25em; line-height: 1; border-radius: 0.35em;\">\n",
       "    the Mad Hatter's\n",
       "    <span style=\"font-size: 0.8em; font-weight: bold; line-height: 1; border-radius: 0.35em; text-transform: uppercase; vertical-align: middle; margin-left: 0.5rem\">ORG</span>\n",
       "</mark>\n",
       " \n",
       "<mark class=\"entity\" style=\"background: #f0d0ff; padding: 0.45em 0.6em; margin: 0 0.25em; line-height: 1; border-radius: 0.35em;\">\n",
       "    &quot;Mad Tea-Party\n",
       "    <span style=\"font-size: 0.8em; font-weight: bold; line-height: 1; border-radius: 0.35em; text-transform: uppercase; vertical-align: middle; margin-left: 0.5rem\">WORK_OF_ART</span>\n",
       "</mark>\n",
       ".&quot; After a while, she leaves.</br>\n",
       "<mark class=\"entity\" style=\"background: #f0d0ff; padding: 0.45em 0.6em; margin: 0 0.25em; line-height: 1; border-radius: 0.35em;\">\n",
       "    The Queen invites Alice\n",
       "    <span style=\"font-size: 0.8em; font-weight: bold; line-height: 1; border-radius: 0.35em; text-transform: uppercase; vertical-align: middle; margin-left: 0.5rem\">WORK_OF_ART</span>\n",
       "</mark>\n",
       " to join the &quot;ROYAL PROCESSION&quot;: a parade of marching playing cards and others headed by \n",
       "<mark class=\"entity\" style=\"background: #7aecec; padding: 0.45em 0.6em; margin: 0 0.25em; line-height: 1; border-radius: 0.35em;\">\n",
       "    the White Rabbit\n",
       "    <span style=\"font-size: 0.8em; font-weight: bold; line-height: 1; border-radius: 0.35em; text-transform: uppercase; vertical-align: middle; margin-left: 0.5rem\">ORG</span>\n",
       "</mark>\n",
       ". When \n",
       "<mark class=\"entity\" style=\"background: #aa9cfc; padding: 0.45em 0.6em; margin: 0 0.25em; line-height: 1; border-radius: 0.35em;\">\n",
       "    Alice\n",
       "    <span style=\"font-size: 0.8em; font-weight: bold; line-height: 1; border-radius: 0.35em; text-transform: uppercase; vertical-align: middle; margin-left: 0.5rem\">PERSON</span>\n",
       "</mark>\n",
       " &quot;unintentionally offends the Queen&quot;, the latter summons the &quot;Executioner&quot;. Alice &quot;boxes the ears&quot;, then flees when all the playing cards come for her. Then she wakes up and realizes it was all a dream.</div>"
      ],
      "text/plain": [
       "<IPython.core.display.HTML object>"
      ]
     },
     "metadata": {},
     "output_type": "display_data"
    }
   ],
   "source": [
    "spacy.displacy.render(spacy_doc, style = 'ent' , jupyter = True)"
   ]
  },
  {
   "cell_type": "code",
   "execution_count": 56,
   "metadata": {},
   "outputs": [
    {
     "name": "stdout",
     "output_type": "stream",
     "text": [
      "Sentence  0 Noun Chunk  Alice\n",
      "Sentence  0 Noun Chunk  a large white rabbit\n",
      "Sentence  0 Noun Chunk  a \"Rabbit-hole\n",
      "Sentence  1 Noun Chunk  She\n",
      "Sentence  1 Noun Chunk  a tiny door\n",
      "Sentence  2 Noun Chunk  she\n",
      "Sentence  2 Noun Chunk  a bottle\n",
      "Sentence  2 Noun Chunk  me\n",
      "Sentence  2 Noun Chunk  she\n",
      "Sentence  2 Noun Chunk  shrinks\n",
      "Sentence  2 Noun Chunk  the door\n",
      "Sentence  3 Noun Chunk  She\n",
      "Sentence  3 Noun Chunk  something\n",
      "Sentence  3 Noun Chunk  me\n",
      "Sentence  4 Noun Chunk  She\n",
      "Sentence  4 Noun Chunk  a fan\n",
      "Sentence  4 Noun Chunk  her\n",
      "Sentence  4 Noun Chunk  the \"Garden\n",
      "Sentence  4 Noun Chunk  a \"Dog\n",
      "Sentence  4 Noun Chunk  her\n",
      "Sentence  5 Noun Chunk  She\n",
      "Sentence  5 Noun Chunk  the \"White Rabbit's tiny House\n",
      "Sentence  5 Noun Chunk  her normal size\n",
      "Sentence  6 Noun Chunk  order\n",
      "Sentence  6 Noun Chunk  she\n",
      "Sentence  6 Noun Chunk  the \"magic fan\n",
      "Sentence  7 Noun Chunk  She\n",
      "Sentence  7 Noun Chunk  a kitchen\n",
      "Sentence  7 Noun Chunk  a cook\n",
      "Sentence  7 Noun Chunk  a woman\n",
      "Sentence  7 Noun Chunk  a baby\n",
      "Sentence  8 Noun Chunk  She\n",
      "Sentence  8 Noun Chunk  the woman\n",
      "Sentence  8 Noun Chunk  her\n",
      "Sentence  8 Noun Chunk  the child\n",
      "Sentence  8 Noun Chunk  the infant\n",
      "Sentence  8 Noun Chunk  the cook\n",
      "Sentence  8 Noun Chunk  things\n",
      "Sentence  9 Noun Chunk  The baby\n",
      "Sentence  9 Noun Chunk  a pig\n",
      "Sentence  9 Noun Chunk  squirms\n",
      "Sentence  9 Noun Chunk  her grip\n",
      "Sentence  10 Noun Chunk  The Duchess's Cheshire Cat\n",
      "Sentence  10 Noun Chunk  a couple\n",
      "Sentence  10 Noun Chunk  times\n",
      "Sentence  10 Noun Chunk  Alice\n",
      "Sentence  10 Noun Chunk  her\n",
      "Sentence  10 Noun Chunk  the Mad Hatter's \"Mad Tea-Party\n",
      "Sentence  11 Noun Chunk  a while\n",
      "Sentence  11 Noun Chunk  she\n",
      "Sentence  12 Noun Chunk  The Queen\n",
      "Sentence  12 Noun Chunk  Alice\n",
      "Sentence  12 Noun Chunk  the \"ROYAL PROCESSION\n",
      "Sentence  12 Noun Chunk  a parade\n",
      "Sentence  12 Noun Chunk  playing cards\n",
      "Sentence  12 Noun Chunk  others\n",
      "Sentence  12 Noun Chunk  the White Rabbit\n",
      "Sentence  13 Noun Chunk  Alice\n",
      "Sentence  13 Noun Chunk  the Queen\n",
      "Sentence  13 Noun Chunk  the \"Executioner\n",
      "Sentence  14 Noun Chunk  Alice\n",
      "Sentence  14 Noun Chunk  the ears\n",
      "Sentence  14 Noun Chunk  all the playing cards\n",
      "Sentence  14 Noun Chunk  her\n",
      "Sentence  15 Noun Chunk  she\n",
      "Sentence  15 Noun Chunk  it\n",
      "Sentence  15 Noun Chunk  all a dream\n"
     ]
    }
   ],
   "source": [
    "# noun chunking\n",
    "for i , sent in enumerate(spacy_doc.sents):\n",
    "    for noun in sent.noun_chunks:\n",
    "        print('Sentence ', i  , 'Noun Chunk ', noun)"
   ]
  },
  {
   "cell_type": "code",
   "execution_count": null,
   "metadata": {},
   "outputs": [],
   "source": []
  }
 ],
 "metadata": {
  "kernelspec": {
   "display_name": "Python 3",
   "language": "python",
   "name": "python3"
  },
  "language_info": {
   "codemirror_mode": {
    "name": "ipython",
    "version": 3
   },
   "file_extension": ".py",
   "mimetype": "text/x-python",
   "name": "python",
   "nbconvert_exporter": "python",
   "pygments_lexer": "ipython3",
   "version": "3.7.3"
  }
 },
 "nbformat": 4,
 "nbformat_minor": 2
}
